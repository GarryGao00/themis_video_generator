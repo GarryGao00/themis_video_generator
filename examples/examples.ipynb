{
 "cells": [
  {
   "cell_type": "code",
   "execution_count": 1,
   "id": "6487d498",
   "metadata": {},
   "outputs": [],
   "source": [
    "import cv2\n",
    "import multiprocessing\n",
    "import os\n",
    "import datetime\n",
    "import numpy\n",
    "import requests"
   ]
  },
  {
   "cell_type": "code",
   "execution_count": 2,
   "id": "53b3681a",
   "metadata": {},
   "outputs": [],
   "source": [
    "# 2020-03-21 06:30 UTC in Gillam, Manitoba, was a particularly good night\n",
    "url = \"https://data.phys.ucalgary.ca/sort_by_project/THEMIS/asi/stream0/2020/03/21/gill_themis19/ut06/20200321_0630_gill_themis19_full.pgm.gz\"\n",
    "r = requests.get(url)\n",
    "\n",
    "# save data to a local file\n",
    "filename = \"pic1.pgm.gz\"\n",
    "with open(filename, 'wb') as f:\n",
    "    f.write(r.content)"
   ]
  },
  {
   "cell_type": "code",
   "execution_count": 31,
   "id": "8ac018fe",
   "metadata": {},
   "outputs": [],
   "source": []
  },
  {
   "cell_type": "code",
   "execution_count": 32,
   "id": "8969271f",
   "metadata": {},
   "outputs": [],
   "source": [
    "img_url = download_themis_images(mydate, asi)"
   ]
  },
  {
   "cell_type": "code",
   "execution_count": 30,
   "id": "9e1f5ad0",
   "metadata": {},
   "outputs": [
    {
     "name": "stdout",
     "output_type": "stream",
     "text": [
      "data.phys.ucalgary.ca/sort_by_project/THEMIS/asi/stream0/2020/01/01/rank*/\n"
     ]
    }
   ],
   "source": [
    "print(img_url)"
   ]
  },
  {
   "cell_type": "code",
   "execution_count": null,
   "id": "9872167c",
   "metadata": {},
   "outputs": [],
   "source": []
  }
 ],
 "metadata": {
  "kernelspec": {
   "display_name": "Python 3 (ipykernel)",
   "language": "python",
   "name": "python3"
  },
  "language_info": {
   "codemirror_mode": {
    "name": "ipython",
    "version": 3
   },
   "file_extension": ".py",
   "mimetype": "text/x-python",
   "name": "python",
   "nbconvert_exporter": "python",
   "pygments_lexer": "ipython3",
   "version": "3.9.12"
  }
 },
 "nbformat": 4,
 "nbformat_minor": 5
}
